{
 "cells": [
  {
   "cell_type": "code",
   "execution_count": null,
   "id": "2be0fcce-518a-4f15-93f2-cec9ef050161",
   "metadata": {
    "tags": []
   },
   "outputs": [],
   "source": [
    "%load_ext autoreload\n",
    "%autoreload 2"
   ]
  },
  {
   "cell_type": "code",
   "execution_count": null,
   "id": "05cb55f2-b3db-4664-8578-bdc257ed29d6",
   "metadata": {
    "tags": []
   },
   "outputs": [],
   "source": [
    "import os\n",
    "import sys\n",
    "\n",
    "sys.path.append(\"../../\")\n",
    "from dataclasses import asdict\n",
    "import warnings\n",
    "import logging\n",
    "\n",
    "import srsly\n",
    "from rich import print\n",
    "import pandas as pd\n",
    "import seaborn as sns\n",
    "import torch\n",
    "from omegaconf import OmegaConf\n",
    "from tqdm.auto import tqdm\n",
    "from pykeen.datasets import Dataset\n",
    "from pykeen.predict import predict_triples\n",
    "from IPython.display import display\n",
    "from mgi.data.sampled_datasets import load_sampled_datasets_metadata\n",
    "\n",
    "from mgi.defaults import ROOT_PATH\n",
    "\n",
    "os.chdir(ROOT_PATH)\n",
    "\n",
    "from mgi.utils.config import load_training_config\n",
    "from mgi.defaults import ROOT_PATH, PLOTS_PATH"
   ]
  },
  {
   "cell_type": "code",
   "execution_count": null,
   "id": "0496302d-eb9c-4763-ae37-8066f860b927",
   "metadata": {},
   "outputs": [],
   "source": [
    "warnings.filterwarnings(\"ignore\")\n",
    "logging.disable(logging.WARNING)"
   ]
  },
  {
   "cell_type": "code",
   "execution_count": null,
   "id": "84d12315-472c-4b3e-beff-21ef8f96519c",
   "metadata": {},
   "outputs": [],
   "source": [
    "plots_path = PLOTS_PATH / \"loss_analysis\"\n",
    "plots_path.mkdir(exist_ok=True, parents=True)"
   ]
  },
  {
   "cell_type": "code",
   "execution_count": null,
   "id": "d8d42991-c59b-475c-abf7-b3ffa09b9c7c",
   "metadata": {},
   "outputs": [],
   "source": [
    "sns.set_theme(context=\"paper\", style=\"whitegrid\", font_scale=1.1)"
   ]
  },
  {
   "cell_type": "code",
   "execution_count": null,
   "id": "ce418d92-921c-49fd-9fd8-2f5168df417c",
   "metadata": {
    "tags": []
   },
   "outputs": [],
   "source": [
    "configs = []\n",
    "for x in os.scandir(ROOT_PATH / \"experiments/configs/training/training_items\"):\n",
    "    if \"debug\" in x.name:\n",
    "        continue\n",
    "    [config_training_items] = srsly.read_yaml(x).values()\n",
    "    configs += [load_training_config(**item) for item in config_training_items]"
   ]
  },
  {
   "cell_type": "code",
   "execution_count": null,
   "id": "ababb7ae-d3ea-4f66-975d-52e345d3c50e",
   "metadata": {},
   "outputs": [],
   "source": [
    "configs = [OmegaConf.to_container(c, resolve=True) for c in configs]\n",
    "configs_df = pd.DataFrame(configs)"
   ]
  },
  {
   "cell_type": "code",
   "execution_count": null,
   "id": "20ce9d09-98b6-481c-8aee-4a91966ef892",
   "metadata": {
    "tags": []
   },
   "outputs": [],
   "source": [
    "sampling = pd.json_normalize(\n",
    "    configs_df[\"ds_dataset\"]\n",
    "    .map(load_sampled_datasets_metadata())\n",
    "    .apply(lambda x: asdict(x) if pd.notna(x) else x)\n",
    ")\n",
    "sampling = sampling.drop(columns=\"name\")\n",
    "configs_df = pd.concat([configs_df, sampling], axis=\"columns\")"
   ]
  },
  {
   "cell_type": "code",
   "execution_count": null,
   "id": "928989fc-e640-4a3c-880d-659fc516aef0",
   "metadata": {},
   "outputs": [],
   "source": [
    "configs_df = configs_df[configs_df[\"sampling_config.sampling\"] == \"triple\"]"
   ]
  },
  {
   "cell_type": "code",
   "execution_count": null,
   "id": "4e59e84f-45c4-4bc0-82fd-c3292f741703",
   "metadata": {},
   "outputs": [],
   "source": [
    "preds_all = []\n",
    "\n",
    "for gk_dataset in tqdm([\"WN18RR\", \"FB15K237\", \"WD50K\"]):\n",
    "    for entry in tqdm(\n",
    "        list(\n",
    "            configs_df[\n",
    "                (configs_df.ds_dataset.str.startswith(gk_dataset))\n",
    "                & (configs_df.gk_dataset == gk_dataset)\n",
    "            ].itertuples()\n",
    "        )\n",
    "    ):\n",
    "        if (entry.experiment_dir / \"runs/0/dataset\").exists():\n",
    "            dataset = Dataset.from_directory_binary(entry.experiment_dir / \"runs/0/dataset\")\n",
    "            model = torch.load(\n",
    "                entry.experiment_dir / \"runs\" / \"0\" / \"model.pt\", map_location=torch.device(\"cpu\")\n",
    "            )\n",
    "\n",
    "            preds = (\n",
    "                predict_triples(model=model, triples=dataset.training)\n",
    "                .process(factory=dataset.training)\n",
    "                .df\n",
    "            )\n",
    "            preds = preds[preds.relation_label == \"same-as\"]\n",
    "            preds[\"correct\"] = preds.head_label.str.replace(\n",
    "                \"left:\", \"\"\n",
    "            ) == preds.tail_label.str.replace(\"right:\", \"\")\n",
    "            preds[\"experiment\"] = entry.experiment_name\n",
    "            preds[\"loss\"] = entry.loss\n",
    "            preds[\"ds_dataset\"] = entry.ds_dataset\n",
    "            preds[\"gk_dataset\"] = entry.gk_dataset\n",
    "            preds_all.append(preds)"
   ]
  },
  {
   "cell_type": "code",
   "execution_count": null,
   "id": "a3555894-4cb6-4a57-8224-79128939c9b5",
   "metadata": {},
   "outputs": [],
   "source": [
    "df = pd.concat(preds_all)\n",
    "\n",
    "to_plot = df.sort_values(by=[\"loss\", \"correct\"])\n",
    "to_plot.loss = to_plot.loss.map({\"nssa\": \"standard\", \"weighted_nssa\": \"weighted\"})\n",
    "\n",
    "to_plot[\"linking triple\"] = to_plot.correct.apply(lambda x: \"correct\" if x else \"incorrect\")\n",
    "\n",
    "grouped = to_plot.groupby([\"loss\", \"linking triple\"]).agg({\"score\": [\"mean\", \"median\", \"std\"]})\n",
    "unstacked = grouped.unstack()\n",
    "unstacked[\"score mean diff\"] = (\n",
    "    unstacked[(\"score\", \"mean\", \"correct\")] - unstacked[(\"score\", \"mean\", \"incorrect\")]\n",
    ")\n",
    "unstacked[\"score median diff\"] = (\n",
    "    unstacked[(\"score\", \"median\", \"correct\")] - unstacked[(\"score\", \"median\", \"incorrect\")]\n",
    ")\n",
    "display(unstacked)\n",
    "g = sns.FacetGrid(to_plot.reset_index(), col=\"ds_dataset\", col_wrap=3, sharey=False, height=2.4)\n",
    "g.map(sns.boxplot, \"linking triple\", \"score\", \"loss\", showfliers=False)\n",
    "g.add_legend()\n",
    "sns.move_legend(g, \"lower center\", bbox_to_anchor=(0.5, 1), ncol=3, title=None, frameon=True)\n",
    "for ax in g.axes:\n",
    "    ds_dataset = ax.get_title().split(\" = \")[1].split(\"_\")\n",
    "    ds_dataset[2] = f\"p={ds_dataset[2][0]}.{ds_dataset[2][1]}\"\n",
    "    ax.set_title(\", \".join(ds_dataset))\n",
    "fig = g.fig\n",
    "fig.tight_layout()\n",
    "g.savefig(plots_path / \"loss_comparison.png\", dpi=600)"
   ]
  },
  {
   "cell_type": "code",
   "execution_count": null,
   "id": "66bfc609-e0c9-4486-b229-bd29a416684d",
   "metadata": {},
   "outputs": [],
   "source": [
    "grouped = to_plot.groupby([\"ds_dataset\", \"loss\", \"linking triple\"]).agg(\n",
    "    {\"score\": [\"mean\", \"median\", \"std\"]}\n",
    ")\n",
    "unstacked = grouped.unstack()\n",
    "unstacked[\"score mean diff\"] = (\n",
    "    unstacked[(\"score\", \"mean\", \"correct\")] - unstacked[(\"score\", \"mean\", \"incorrect\")]\n",
    ")\n",
    "unstacked[\"score median diff\"] = (\n",
    "    unstacked[(\"score\", \"median\", \"correct\")] - unstacked[(\"score\", \"median\", \"incorrect\")]\n",
    ")"
   ]
  },
  {
   "cell_type": "code",
   "execution_count": null,
   "id": "8e9f4bab-09b2-4e2f-9ed8-b2358fa3f06f",
   "metadata": {},
   "outputs": [],
   "source": [
    "for x in [\"correct\", \"incorrect\"]:\n",
    "    d = unstacked[(\"score\", \"mean\", x)].reset_index()\n",
    "    d = d.pivot(\n",
    "        index=[(\"ds_dataset\", \"\", \"\")], columns=[(\"loss\", \"\", \"\")], values=[(\"score\", \"mean\", x)]\n",
    "    )\n",
    "    diff = (\n",
    "        (d[((\"score\", \"mean\", x), \"standard\")] - d[((\"score\", \"mean\", x), \"weighted\")])\n",
    "        / d[((\"score\", \"mean\", x), \"standard\")]\n",
    "    ).mean()\n",
    "    print(f\"Diff in mean score for {x} relations {diff:.2%}\")"
   ]
  }
 ],
 "metadata": {
  "kernelspec": {
   "display_name": "22-multiple-graph-inference",
   "language": "python",
   "name": "22-multiple-graph-inference"
  },
  "language_info": {
   "codemirror_mode": {
    "name": "ipython",
    "version": 3
   },
   "file_extension": ".py",
   "mimetype": "text/x-python",
   "name": "python",
   "nbconvert_exporter": "python",
   "pygments_lexer": "ipython3",
   "version": "3.10.9"
  }
 },
 "nbformat": 4,
 "nbformat_minor": 5
}
