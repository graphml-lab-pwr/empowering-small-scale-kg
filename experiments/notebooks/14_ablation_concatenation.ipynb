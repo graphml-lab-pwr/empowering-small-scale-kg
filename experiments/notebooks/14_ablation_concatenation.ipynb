{
 "cells": [
  {
   "cell_type": "code",
   "execution_count": null,
   "id": "initial_id",
   "metadata": {
    "ExecuteTime": {
     "start_time": "2024-03-15T13:18:31.721597406Z"
    }
   },
   "outputs": [],
   "source": [
    "%load_ext autoreload\n",
    "%autoreload 2"
   ]
  },
  {
   "cell_type": "code",
   "execution_count": 20,
   "id": "6d0a1ef1ff234c3a",
   "metadata": {
    "ExecuteTime": {
     "end_time": "2024-03-15T13:18:35.298613800Z",
     "start_time": "2024-03-15T13:18:32.012733926Z"
    },
    "collapsed": false
   },
   "outputs": [],
   "source": [
    "import sys\n",
    "\n",
    "sys.path.append(\"../../\")\n",
    "\n",
    "import itertools\n",
    "import warnings\n",
    "import logging\n",
    "\n",
    "import pandas as pd\n",
    "import mpire\n",
    "from mgi.data.datasets.dataset_utils import get_ds_dataset, get_gk_dataset\n",
    "\n",
    "from mgi.mappings.nn_mapping import FaissNNMapping\n",
    "from mgi.mappings.similarity_embeddings import (\n",
    "    FastTextSimilarityEmbedderLong,\n",
    "    FastTextSimilarityEmbedder,\n",
    ")\n",
    "from mgi.metrics.anonymization import acc_at_k\n",
    "from mgi.data.sampled_datasets import load_sampled_datasets_metadata"
   ]
  },
  {
   "cell_type": "code",
   "execution_count": null,
   "id": "235b977f-9882-415b-a7bd-b92bc8b7b818",
   "metadata": {},
   "outputs": [],
   "source": [
    "warnings.filterwarnings(\"ignore\")\n",
    "logging.disable(logging.WARNING)"
   ]
  },
  {
   "cell_type": "code",
   "execution_count": null,
   "id": "46aec40b901531ab",
   "metadata": {
    "ExecuteTime": {
     "end_time": "2024-03-15T13:18:35.343936553Z",
     "start_time": "2024-03-15T13:18:35.308922654Z"
    },
    "collapsed": false
   },
   "outputs": [],
   "source": [
    "ds_dataset_metadatas = load_sampled_datasets_metadata()"
   ]
  },
  {
   "cell_type": "code",
   "execution_count": null,
   "id": "e1b6abd5f59b8e4b",
   "metadata": {
    "ExecuteTime": {
     "end_time": "2024-03-15T13:18:35.364722415Z",
     "start_time": "2024-03-15T13:18:35.340660630Z"
    },
    "collapsed": false
   },
   "outputs": [],
   "source": [
    "def get_result(embedder_cls, v, seed):\n",
    "    embedder = embedder_cls(\"in_out_neighborhood\")\n",
    "    gk_dataset = get_gk_dataset(v.name.split(\"_\")[0])\n",
    "    mapping = FaissNNMapping(\n",
    "        gk_dataset,\n",
    "        1,\n",
    "        embedder,\n",
    "        \"training\",\n",
    "        \"euclidean\",\n",
    "    )\n",
    "    ds_dataset = get_ds_dataset(v.name, seed)\n",
    "    neighbours_ids, dists = mapping.get_neighbours_map_from_dataset(ds_dataset)\n",
    "    acc = acc_at_k(ds_dataset, gk_dataset, neighbours_ids, 1)\n",
    "    return {\"dataset\": v.name, \"embedder\": embedder_cls.__name__, \"acc\": acc, \"seed\": seed}"
   ]
  },
  {
   "cell_type": "code",
   "execution_count": null,
   "id": "125415a6ee46ee74",
   "metadata": {
    "ExecuteTime": {
     "end_time": "2024-03-15T13:18:35.645865995Z",
     "start_time": "2024-03-15T13:18:35.366602326Z"
    },
    "collapsed": false
   },
   "outputs": [],
   "source": [
    "with mpire.WorkerPool(n_jobs=20) as pool:\n",
    "    args = list(\n",
    "        itertools.product(\n",
    "            [FastTextSimilarityEmbedderLong, FastTextSimilarityEmbedder],\n",
    "            ds_dataset_metadatas.values(),\n",
    "            [121371, 59211, 44185],\n",
    "        )\n",
    "    )\n",
    "    results = pool.map(get_result, args, progress_bar=True)"
   ]
  },
  {
   "cell_type": "code",
   "execution_count": null,
   "id": "c030ff4f04d83acb",
   "metadata": {
    "ExecuteTime": {
     "start_time": "2024-03-15T13:18:35.619146317Z"
    },
    "collapsed": false
   },
   "outputs": [],
   "source": [
    "df = pd.DataFrame(results)"
   ]
  },
  {
   "cell_type": "code",
   "execution_count": null,
   "id": "2af0fb6954635ad1",
   "metadata": {
    "ExecuteTime": {
     "start_time": "2024-03-15T13:18:35.620927826Z"
    },
    "collapsed": false
   },
   "outputs": [],
   "source": [
    "grouped = df.groupby([\"embedder\"])[\"acc\"].mean()\n",
    "grouped"
   ]
  },
  {
   "cell_type": "code",
   "execution_count": null,
   "id": "d5632b55-02de-4c26-aa35-22203f0989c3",
   "metadata": {},
   "outputs": [],
   "source": [
    "diff = (\n",
    "    grouped[\"FastTextSimilarityEmbedderLong\"] - grouped[\"FastTextSimilarityEmbedder\"]\n",
    ") / grouped[\"FastTextSimilarityEmbedder\"]\n",
    "print(f\"Difference: {diff:.2%}\")"
   ]
  }
 ],
 "metadata": {
  "kernelspec": {
   "display_name": "22-multiple-graph-inference",
   "language": "python",
   "name": "22-multiple-graph-inference"
  },
  "language_info": {
   "codemirror_mode": {
    "name": "ipython",
    "version": 3
   },
   "file_extension": ".py",
   "mimetype": "text/x-python",
   "name": "python",
   "nbconvert_exporter": "python",
   "pygments_lexer": "ipython3",
   "version": "3.10.9"
  }
 },
 "nbformat": 4,
 "nbformat_minor": 5
}
